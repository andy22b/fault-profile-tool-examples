{
 "cells": [
  {
   "cell_type": "markdown",
   "metadata": {},
   "source": [
    "**Example script for offset measurements**\n"
   ]
  },
  {
   "cell_type": "markdown",
   "metadata": {},
   "source": [
    "Set up script by specifying parameters"
   ]
  },
  {
   "cell_type": "code",
   "execution_count": 3,
   "metadata": {},
   "outputs": [],
   "source": [
    "# Import necessary python modules\n",
    "from fault_profile_tool.runner import run_topo\n",
    "# Grid spacing of geotiff\n",
    "grid_spacing = 2\n",
    "########### geotiff and shapefiles must be in the same cartesian coords (e.g. NZTM)\n",
    "# Geotiff file name\n",
    "dem_tif = \"mason_river_compressed.tif\"\n",
    "# Fault trace shapefile (must contain one or more lines)\n",
    "fault_trace_shapefile = \"mason_fault_traces.shp\"\n",
    "# Measurement locations (in this case, lines that cross the fault traces)\n",
    "measurement_points = \"mason_profile_point.shp\"\n",
    "# Swath width (metres)\n",
    "swath_width = 10\n",
    "# Swath length (metres; only important if profile_locations are points)\n",
    "swath_length = 300\n",
    "# Binary file that stores data from GUI (so that you don't have to redo selections)\n",
    "### Note: delete/rename if you change number of profiles!\n",
    "save_file = \"offsets_points_example.pkl\"\n",
    "# Text file with offsets and uncertainties\n",
    "offset_file = \"offsets_points_example.txt\""
   ]
  },
  {
   "cell_type": "markdown",
   "metadata": {},
   "source": [
    "Run user interface"
   ]
  },
  {
   "cell_type": "code",
   "execution_count": 4,
   "metadata": {},
   "outputs": [
    {
     "name": "stdout",
     "output_type": "stream",
     "text": [
      "Loaded profile 1 of 8.\n",
      "Loaded profile 2 of 8.\n",
      "Loaded profile 3 of 8.\n",
      "Loaded profile 4 of 8.\n",
      "Loaded profile 5 of 8.\n",
      "Loaded profile 6 of 8.\n",
      "Loaded profile 7 of 8.\n",
      "Loaded profile 8 of 8.\n"
     ]
    },
    {
     "name": "stderr",
     "output_type": "stream",
     "text": [
      "Traceback (most recent call last):\n",
      "  File \"/Users/arh79/opt/anaconda3/envs/fault-profile-tool/lib/python3.8/site-packages/matplotlib/cbook/__init__.py\", line 270, in process\n",
      "    func(*args, **kwargs)\n",
      "  File \"/Users/arh79/opt/anaconda3/envs/fault-profile-tool/lib/python3.8/site-packages/matplotlib/widgets.py\", line 2972, in onrelease\n",
      "    self.ax.lines.remove(self.line)\n",
      "ValueError: list.remove(x): x not in list\n",
      "Traceback (most recent call last):\n",
      "  File \"/Users/arh79/opt/anaconda3/envs/fault-profile-tool/lib/python3.8/site-packages/matplotlib/cbook/__init__.py\", line 270, in process\n",
      "    func(*args, **kwargs)\n",
      "  File \"/Users/arh79/opt/anaconda3/envs/fault-profile-tool/lib/python3.8/site-packages/matplotlib/widgets.py\", line 2972, in onrelease\n",
      "    self.ax.lines.remove(self.line)\n",
      "ValueError: list.remove(x): x not in list\n"
     ]
    },
    {
     "ename": "SystemExit",
     "evalue": "0",
     "output_type": "error",
     "traceback": [
      "An exception has occurred, use %tb to see the full traceback.\n",
      "\u001b[0;31mSystemExit\u001b[0m\u001b[0;31m:\u001b[0m 0\n"
     ]
    },
    {
     "name": "stderr",
     "output_type": "stream",
     "text": [
      "/Users/arh79/opt/anaconda3/envs/fault-profile-tool/lib/python3.8/site-packages/IPython/core/interactiveshell.py:3445: UserWarning: To exit: use 'exit', 'quit', or Ctrl-D.\n",
      "  warn(\"To exit: use 'exit', 'quit', or Ctrl-D.\", stacklevel=1)\n"
     ]
    }
   ],
   "source": [
    "run_topo(fault_trace_shp=fault_trace_shapefile, profile_locations_shp=measurement_points,\n",
    "        dem_tif=dem_tif, swath_width=swath_width, profile_length=swath_length,\n",
    "        save_file=save_file, offset_file=offset_file, profile_left_side=\"N\")"
   ]
  },
  {
   "cell_type": "code",
   "execution_count": null,
   "metadata": {},
   "outputs": [],
   "source": []
  }
 ],
 "metadata": {
  "kernelspec": {
   "display_name": "Python 3",
   "language": "python",
   "name": "python3"
  },
  "language_info": {
   "codemirror_mode": {
    "name": "ipython",
    "version": 3
   },
   "file_extension": ".py",
   "mimetype": "text/x-python",
   "name": "python",
   "nbconvert_exporter": "python",
   "pygments_lexer": "ipython3",
   "version": "3.8.8"
  }
 },
 "nbformat": 4,
 "nbformat_minor": 4
}
