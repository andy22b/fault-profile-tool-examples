{
 "cells": [
  {
   "cell_type": "markdown",
   "metadata": {},
   "source": [
    "**Example script for offset measurements**\n"
   ]
  },
  {
   "cell_type": "markdown",
   "metadata": {},
   "source": [
    "Set up script by specifying parameters"
   ]
  },
  {
   "cell_type": "code",
   "execution_count": 3,
   "metadata": {},
   "outputs": [],
   "source": [
    "# Import necessary python modules\n",
    "from fault_profile_tool.runner import run_topo\n",
    "# Grid spacing of geotiff\n",
    "grid_spacing = 2\n",
    "########### geotiff and shapefiles must be in the same cartesiand coords (e.g. NZTM)\n",
    "# Geotiff file name\n",
    "dem_tif = \"mason_river_compressed.tif\"\n",
    "# Fault trace shapefile (must contain one or more lines)\n",
    "fault_trace_shapefile = \"mason_fault_traces.shp\"\n",
    "# Measurement locations (in this case, lines that cross the fault traces)\n",
    "measurement_points = \"mason_profile_lines.shp\"\n",
    "# Swath width (metres)\n",
    "swath_width = 10\n",
    "# Swath length (metres; only important if profile_locations are points)\n",
    "swath_length = 100\n",
    "# Binary file that stores data from GUI (so that you don't have to redo selections)\n",
    "### Note: delete/rename if you change number of profiles!\n",
    "save_file = \"offsets_lines_example2d.pkl\"\n",
    "# Text file with offsets and uncertainties\n",
    "offset_file = \"offsets_lines_example2d.txt\""
   ]
  },
  {
   "cell_type": "markdown",
   "metadata": {},
   "source": [
    "Run user interface"
   ]
  },
  {
   "cell_type": "code",
   "execution_count": 2,
   "metadata": {},
   "outputs": [
    {
     "name": "stdout",
     "output_type": "stream",
     "text": [
      "More than one intersection of profile with faults...\n",
      "Choosing first...\n"
     ]
    },
    {
     "name": "stderr",
     "output_type": "stream",
     "text": [
      "C:\\ProgramData\\miniforge3\\envs\\fault-profile-tool\\lib\\site-packages\\fault_profile_tool\\displacement_distribution\\canvas.py:203: ShapelyDeprecationWarning: Iteration over multi-part geometries is deprecated and will be removed in Shapely 2.0. Use the `geoms` property to access the constituent parts of a multi-part geometry.\n",
      "  for line in mls:\n"
     ]
    },
    {
     "name": "stdout",
     "output_type": "stream",
     "text": [
      "Loaded profile 1 of 5.\n",
      "More than one intersection of profile with faults...\n",
      "Choosing first...\n",
      "Loaded profile 2 of 5.\n",
      "Loaded profile 3 of 5.\n",
      "Loaded profile 4 of 5.\n",
      "More than one intersection of profile with faults...\n",
      "Choosing first...\n",
      "Loaded profile 5 of 5.\n"
     ]
    },
    {
     "ename": "SystemExit",
     "evalue": "0",
     "output_type": "error",
     "traceback": [
      "An exception has occurred, use %tb to see the full traceback.\n",
      "\u001b[1;31mSystemExit\u001b[0m\u001b[1;31m:\u001b[0m 0\n"
     ]
    },
    {
     "name": "stderr",
     "output_type": "stream",
     "text": [
      "C:\\ProgramData\\miniforge3\\envs\\fault-profile-tool\\lib\\site-packages\\IPython\\core\\interactiveshell.py:3450: UserWarning: To exit: use 'exit', 'quit', or Ctrl-D.\n",
      "  warn(\"To exit: use 'exit', 'quit', or Ctrl-D.\", stacklevel=1)\n"
     ]
    }
   ],
   "source": [
    "run_topo(fault_trace_shp=fault_trace_shapefile, profile_locations_shp=measurement_points,\n",
    "        dem_tif=dem_tif, swath_width=swath_width, profile_length=swath_length,\n",
    "        save_file=save_file, offset_file=offset_file, profile_left_side=\"N\", num_components=2)"
   ]
  },
  {
   "cell_type": "code",
   "execution_count": null,
   "metadata": {},
   "outputs": [],
   "source": []
  }
 ],
 "metadata": {
  "kernelspec": {
   "display_name": "Python 3 (ipykernel)",
   "language": "python",
   "name": "python3"
  },
  "language_info": {
   "codemirror_mode": {
    "name": "ipython",
    "version": 3
   },
   "file_extension": ".py",
   "mimetype": "text/x-python",
   "name": "python",
   "nbconvert_exporter": "python",
   "pygments_lexer": "ipython3",
   "version": "3.8.15"
  }
 },
 "nbformat": 4,
 "nbformat_minor": 4
}
